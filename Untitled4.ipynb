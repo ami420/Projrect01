{
 "cells": [
  {
   "cell_type": "code",
   "execution_count": 1,
   "metadata": {},
   "outputs": [],
   "source": [
    "import pandas as pd"
   ]
  },
  {
   "cell_type": "code",
   "execution_count": 2,
   "metadata": {},
   "outputs": [],
   "source": [
    "dataset=pd.read_csv(\"Social_Network_ads.csv\")"
   ]
  },
  {
   "cell_type": "code",
   "execution_count": 3,
   "metadata": {},
   "outputs": [
    {
     "data": {
      "text/html": [
       "<div>\n",
       "<style scoped>\n",
       "    .dataframe tbody tr th:only-of-type {\n",
       "        vertical-align: middle;\n",
       "    }\n",
       "\n",
       "    .dataframe tbody tr th {\n",
       "        vertical-align: top;\n",
       "    }\n",
       "\n",
       "    .dataframe thead th {\n",
       "        text-align: right;\n",
       "    }\n",
       "</style>\n",
       "<table border=\"1\" class=\"dataframe\">\n",
       "  <thead>\n",
       "    <tr style=\"text-align: right;\">\n",
       "      <th></th>\n",
       "      <th>User ID</th>\n",
       "      <th>Age</th>\n",
       "      <th>EstimatedSalary</th>\n",
       "      <th>Purchased</th>\n",
       "    </tr>\n",
       "  </thead>\n",
       "  <tbody>\n",
       "    <tr>\n",
       "      <th>User ID</th>\n",
       "      <td>1.000000</td>\n",
       "      <td>-0.000721</td>\n",
       "      <td>0.071097</td>\n",
       "      <td>0.007120</td>\n",
       "    </tr>\n",
       "    <tr>\n",
       "      <th>Age</th>\n",
       "      <td>-0.000721</td>\n",
       "      <td>1.000000</td>\n",
       "      <td>0.155238</td>\n",
       "      <td>0.622454</td>\n",
       "    </tr>\n",
       "    <tr>\n",
       "      <th>EstimatedSalary</th>\n",
       "      <td>0.071097</td>\n",
       "      <td>0.155238</td>\n",
       "      <td>1.000000</td>\n",
       "      <td>0.362083</td>\n",
       "    </tr>\n",
       "    <tr>\n",
       "      <th>Purchased</th>\n",
       "      <td>0.007120</td>\n",
       "      <td>0.622454</td>\n",
       "      <td>0.362083</td>\n",
       "      <td>1.000000</td>\n",
       "    </tr>\n",
       "  </tbody>\n",
       "</table>\n",
       "</div>"
      ],
      "text/plain": [
       "                  User ID       Age  EstimatedSalary  Purchased\n",
       "User ID          1.000000 -0.000721         0.071097   0.007120\n",
       "Age             -0.000721  1.000000         0.155238   0.622454\n",
       "EstimatedSalary  0.071097  0.155238         1.000000   0.362083\n",
       "Purchased        0.007120  0.622454         0.362083   1.000000"
      ]
     },
     "execution_count": 3,
     "metadata": {},
     "output_type": "execute_result"
    }
   ],
   "source": [
    "dataset.corr()"
   ]
  },
  {
   "cell_type": "code",
   "execution_count": 4,
   "metadata": {},
   "outputs": [
    {
     "data": {
      "text/plain": [
       "Index([u'User ID', u'Gender', u'Age', u'EstimatedSalary', u'Purchased'], dtype='object')"
      ]
     },
     "execution_count": 4,
     "metadata": {},
     "output_type": "execute_result"
    }
   ],
   "source": [
    "dataset.columns"
   ]
  },
  {
   "cell_type": "code",
   "execution_count": 27,
   "metadata": {},
   "outputs": [],
   "source": [
    "x=dataset[['Age','EstimatedSalary']].values\n",
    "y=dataset['Purchased'].values"
   ]
  },
  {
   "cell_type": "code",
   "execution_count": 28,
   "metadata": {},
   "outputs": [],
   "source": [
    "from sklearn.model_selection import train_test_split"
   ]
  },
  {
   "cell_type": "code",
   "execution_count": 29,
   "metadata": {},
   "outputs": [],
   "source": [
    "x_train,x_test,y_train,y_test=train_test_split(x,y)"
   ]
  },
  {
   "cell_type": "code",
   "execution_count": 30,
   "metadata": {},
   "outputs": [],
   "source": [
    "#from sklearn.linear_model import LinearRegression as lr"
   ]
  },
  {
   "cell_type": "code",
   "execution_count": 31,
   "metadata": {},
   "outputs": [],
   "source": [
    "#linear_regressor=lr()"
   ]
  },
  {
   "cell_type": "code",
   "execution_count": 32,
   "metadata": {},
   "outputs": [],
   "source": [
    "#linear_regressor.fit(x_train,y_train)"
   ]
  },
  {
   "cell_type": "code",
   "execution_count": 33,
   "metadata": {},
   "outputs": [],
   "source": [
    "import matplotlib.pyplot as plt"
   ]
  },
  {
   "cell_type": "code",
   "execution_count": 38,
   "metadata": {},
   "outputs": [
    {
     "name": "stderr",
     "output_type": "stream",
     "text": [
      "/anaconda2/lib/python2.7/site-packages/sklearn/utils/validation.py:595: DataConversionWarning: Data with input dtype int64 was converted to float64 by StandardScaler.\n",
      "  warnings.warn(msg, DataConversionWarning)\n"
     ]
    }
   ],
   "source": [
    "from sklearn.preprocessing import StandardScaler\n",
    "sc=StandardScaler()\n",
    "x_train=sc.fit_transform(x_train)\n",
    "x_test=sc.transform(x_test)"
   ]
  },
  {
   "cell_type": "code",
   "execution_count": 39,
   "metadata": {},
   "outputs": [
    {
     "name": "stdout",
     "output_type": "stream",
     "text": [
      "[[-0.12956725 -0.51591403]\n",
      " [ 0.62887519 -1.38089658]\n",
      " [-0.22437256 -0.51591403]\n",
      " [-0.31917786 -0.31408477]\n",
      " [-1.74125744  0.34906851]\n",
      " [-0.31917786 -1.35206382]\n",
      " [-0.41398317 -1.29439832]\n",
      " [ 0.06004336  0.08957375]\n",
      " [ 2.05095477 -0.80424155]\n",
      " [ 0.91329111  0.75272703]\n",
      " [-0.88800969  0.29140301]\n",
      " [-1.36203622 -1.09256906]\n",
      " [-1.26723091  0.57973052]\n",
      " [ 0.15484867  2.0790336 ]\n",
      " [-1.17242561 -0.51591403]\n",
      " [ 0.34445928  0.26257026]\n",
      " [ 0.91329111 -1.00607081]\n",
      " [ 1.29251233  1.96370259]\n",
      " [ 0.34445928  0.14723925]\n",
      " [-0.12956725 -0.48708128]\n",
      " [-0.69839908 -0.11225551]\n",
      " [-1.17242561  0.29140301]\n",
      " [-1.17242561 -1.58272584]\n",
      " [ 1.29251233  2.30969561]\n",
      " [-0.50878847 -0.54474678]\n",
      " [ 2.05095477 -0.68891054]\n",
      " [-0.22437256  0.83922529]\n",
      " [ 0.15484867  1.0698873 ]\n",
      " [-0.31917786  0.14723925]\n",
      " [-0.79320439  0.55089777]\n",
      " [-1.17242561  0.46439952]\n",
      " [-0.31917786  2.22319735]\n",
      " [ 0.06004336  0.03190824]\n",
      " [-0.03476195 -0.31408477]\n",
      " [ 1.29251233  0.57973052]\n",
      " [ 1.00809641  0.46439952]\n",
      " [-0.982815   -1.09256906]\n",
      " [-0.79320439 -1.58272584]\n",
      " [ 1.48212294 -1.26556557]\n",
      " [ 0.43926458  1.70420783]\n",
      " [-1.83606274 -1.46739483]\n",
      " [-0.79320439  1.0698873 ]\n",
      " [-0.982815    0.55089777]\n",
      " [-1.55164683 -1.23673282]\n",
      " [ 0.8184858  -0.60241229]\n",
      " [ 0.62887519  1.76187333]\n",
      " [-0.31917786 -0.91957255]\n",
      " [-0.03476195 -0.57357954]\n",
      " [ 0.15484867 -0.28525202]\n",
      " [-0.12956725  0.2337375 ]\n",
      " [ 1.76653885  1.50237857]\n",
      " [-0.03476195 -0.14108826]\n",
      " [-0.31917786 -0.48708128]\n",
      " [-0.982815    1.53121132]\n",
      " [ 1.95614946 -0.80424155]\n",
      " [ 1.19770702  1.84837159]\n",
      " [-0.31917786  0.26257026]\n",
      " [ 1.29251233 -0.91957255]\n",
      " [-0.41398317 -0.7754088 ]\n",
      " [ 1.38731763 -1.03490356]\n",
      " [ 0.53406989 -0.8907398 ]\n",
      " [ 0.15484867 -0.25641927]\n",
      " [-0.31917786 -1.43856208]\n",
      " [-1.17242561  0.29140301]\n",
      " [-0.12956725  2.1943646 ]\n",
      " [-0.50878847 -0.7754088 ]\n",
      " [ 0.8184858  -0.66007779]\n",
      " [-0.88800969  0.37790126]\n",
      " [-0.22437256 -0.57357954]\n",
      " [ 1.95614946  0.176072  ]\n",
      " [ 1.86134416 -1.35206382]\n",
      " [ 0.24965397 -0.51591403]\n",
      " [ 2.05095477 -0.80424155]\n",
      " [-1.93086805  0.46439952]\n",
      " [ 0.91329111 -1.06373631]\n",
      " [-0.50878847 -0.02575726]\n",
      " [ 0.91329111  2.05020085]\n",
      " [-0.31917786  0.03190824]\n",
      " [-1.45684152 -1.20790007]\n",
      " [-0.79320439  0.26257026]\n",
      " [-0.69839908 -1.49622758]\n",
      " [ 0.7236805  -1.09256906]\n",
      " [ 0.34445928  0.29140301]\n",
      " [-0.12956725 -0.37175028]\n",
      " [-1.0776203  -0.34291752]\n",
      " [-1.45684152 -0.11225551]\n",
      " [-0.982815   -0.74657604]\n",
      " [ 1.10290172  0.52206502]\n",
      " [-1.64645213  0.52206502]\n",
      " [ 1.38731763  0.34906851]\n",
      " [ 0.8184858  -1.35206382]\n",
      " [ 0.34445928  2.28086286]\n",
      " [-0.31917786 -1.29439832]\n",
      " [-1.36203622 -0.42941578]\n",
      " [-1.93086805  0.34906851]\n",
      " [-1.93086805 -0.51591403]\n",
      " [ 0.06004336  0.03190824]\n",
      " [ 0.24965397  0.060741  ]\n",
      " [ 1.00809641 -1.20790007]\n",
      " [ 0.24965397  0.060741  ]\n",
      " [-1.36203622 -1.23673282]\n",
      " [-0.22437256 -0.28525202]\n",
      " [-1.55164683 -1.49622758]\n",
      " [ 0.62887519  0.26257026]\n",
      " [-1.0776203  -0.37175028]\n",
      " [ 0.8184858  -0.7754088 ]\n",
      " [-0.22437256  1.58887682]\n",
      " [ 0.34445928 -0.45824853]\n",
      " [-1.83606274  0.00307549]\n",
      " [-0.12956725 -0.22758652]\n",
      " [-0.12956725  0.66622878]\n",
      " [ 1.00809641  0.1184065 ]\n",
      " [-1.17242561 -1.52506033]\n",
      " [-1.74125744 -1.35206382]\n",
      " [-1.83606274  0.43556677]\n",
      " [ 0.24965397 -0.71774329]\n",
      " [ 0.8184858   1.24288381]\n",
      " [-1.64645213 -1.55389308]\n",
      " [-0.982815   -0.9484053 ]\n",
      " [-0.982815   -0.31408477]\n",
      " [-1.0776203  -1.43856208]\n",
      " [ 2.05095477  1.09872005]\n",
      " [-0.31917786  0.14723925]\n",
      " [ 0.7236805  -1.20790007]\n",
      " [-1.36203622 -0.34291752]\n",
      " [ 0.34445928  0.98338904]\n",
      " [ 0.24965397 -0.51591403]\n",
      " [-0.88800969 -1.20790007]\n",
      " [ 1.48212294  1.09872005]\n",
      " [ 0.24965397  0.29140301]\n",
      " [-1.17242561 -1.58272584]\n",
      " [-0.31917786 -0.57357954]\n",
      " [ 1.86134416 -0.91957255]\n",
      " [ 1.76653885 -1.26556557]\n",
      " [-0.50878847  2.28086286]\n",
      " [ 1.95614946  1.73304058]\n",
      " [-0.31917786 -0.34291752]\n",
      " [ 1.00809641 -0.14108826]\n",
      " [-1.45684152 -1.43856208]\n",
      " [ 1.95614946  0.37790126]\n",
      " [ 0.7236805   0.75272703]\n",
      " [ 0.06004336 -0.31408477]\n",
      " [ 0.24965397 -0.28525202]\n",
      " [ 0.34445928 -0.14108826]\n",
      " [-1.17242561  0.060741  ]\n",
      " [ 0.15484867  0.060741  ]\n",
      " [ 0.06004336  1.84837159]\n",
      " [ 0.06004336 -0.80424155]\n",
      " [-1.45684152 -0.63124504]\n",
      " [ 1.00809641 -1.20790007]\n",
      " [-1.45684152  0.34906851]\n",
      " [ 1.76653885  0.1184065 ]\n",
      " [-0.12956725  0.14723925]\n",
      " [-1.83606274 -1.26556557]\n",
      " [ 0.34445928  0.08957375]\n",
      " [ 0.24965397  0.060741  ]\n",
      " [-0.22437256  2.1366991 ]\n",
      " [ 1.67173355  1.81953883]\n",
      " [-0.12956725  0.29140301]\n",
      " [ 1.86134416  0.89689079]\n",
      " [-0.31917786 -0.14108826]\n",
      " [ 0.7236805  -1.38089658]\n",
      " [ 1.00809641  0.55089777]\n",
      " [-1.93086805 -0.74657604]\n",
      " [-0.41398317 -0.7754088 ]\n",
      " [-0.982815    0.40673401]\n",
      " [ 0.8184858  -0.54474678]\n",
      " [ 0.24965397 -0.54474678]\n",
      " [ 1.48212294  0.98338904]\n",
      " [ 0.06004336 -0.25641927]\n",
      " [ 0.8184858  -1.43856208]\n",
      " [ 1.10290172 -0.74657604]\n",
      " [-0.69839908  0.55089777]\n",
      " [-1.74125744  0.34906851]\n",
      " [ 1.00809641  0.52206502]\n",
      " [-0.31917786 -1.38089658]\n",
      " [-1.45684152 -0.19875377]\n",
      " [ 1.48212294  0.00307549]\n",
      " [ 0.53406989  1.99253534]\n",
      " [-1.0776203   0.55089777]\n",
      " [-0.31917786 -1.23673282]\n",
      " [-0.22437256  1.38704756]\n",
      " [-0.03476195 -0.57357954]\n",
      " [ 0.62887519 -1.38089658]\n",
      " [-1.74125744 -0.97723806]\n",
      " [-0.79320439 -0.60241229]\n",
      " [ 1.38731763  0.060741  ]\n",
      " [-0.12956725 -1.06373631]\n",
      " [-1.55164683 -0.42941578]\n",
      " [-0.60359378  1.87720434]\n",
      " [ 0.15484867  0.14723925]\n",
      " [-1.0776203  -0.45824853]\n",
      " [ 0.8184858  -0.57357954]\n",
      " [ 1.86134416  2.1366991 ]\n",
      " [-1.83606274  0.176072  ]\n",
      " [ 0.24965397 -0.19875377]\n",
      " [-0.60359378  1.44471307]\n",
      " [ 0.06004336  0.75272703]\n",
      " [ 0.91329111 -1.06373631]\n",
      " [ 0.7236805   0.1184065 ]\n",
      " [-0.03476195 -0.42941578]\n",
      " [-1.64645213 -0.05459001]\n",
      " [-0.22437256 -0.45824853]\n",
      " [-0.60359378  1.35821481]\n",
      " [-0.79320439  1.32938206]\n",
      " [-0.69839908 -1.03490356]\n",
      " [-0.50878847  1.24288381]\n",
      " [ 1.38731763  0.98338904]\n",
      " [ 1.29251233  1.27171656]\n",
      " [ 0.15484867  0.14723925]\n",
      " [ 0.62887519 -1.09256906]\n",
      " [-0.60359378  0.46439952]\n",
      " [ 0.15484867  0.2337375 ]\n",
      " [-0.41398317  1.30054931]\n",
      " [ 0.91329111 -1.15023456]\n",
      " [ 0.91329111  0.1184065 ]\n",
      " [-0.60359378  0.86805804]\n",
      " [-0.88800969 -0.66007779]\n",
      " [-0.79320439  0.29140301]\n",
      " [-0.79320439  1.87720434]\n",
      " [-0.50878847 -0.8330743 ]\n",
      " [-0.982815   -0.42941578]\n",
      " [-0.50878847 -1.20790007]\n",
      " [ 0.8184858   1.01222179]\n",
      " [-0.982815    0.43556677]\n",
      " [ 0.06004336  0.26257026]\n",
      " [-0.31917786 -0.42941578]\n",
      " [ 0.06004336  1.50237857]\n",
      " [ 0.7236805   0.34906851]\n",
      " [ 1.76653885 -1.06373631]\n",
      " [-0.31917786 -0.8907398 ]\n",
      " [ 0.15484867  0.03190824]\n",
      " [ 0.34445928  0.29140301]\n",
      " [ 0.91329111  1.96370259]\n",
      " [ 1.00809641 -0.97723806]\n",
      " [-0.12956725  2.1366991 ]\n",
      " [ 0.06004336  1.84837159]\n",
      " [ 0.34445928 -0.14108826]\n",
      " [-1.26723091  0.26257026]\n",
      " [ 0.24965397  0.26257026]\n",
      " [-0.03476195  1.21405105]\n",
      " [-0.88800969  2.25203011]\n",
      " [ 0.24965397  0.060741  ]\n",
      " [-0.41398317  0.060741  ]\n",
      " [ 1.57692824  1.73304058]\n",
      " [-1.83606274 -1.40972933]\n",
      " [ 0.06004336  0.14723925]\n",
      " [-1.17242561  0.40673401]\n",
      " [-1.36203622 -0.42941578]\n",
      " [ 0.91329111 -1.17906732]\n",
      " [-1.17242561 -1.00607081]\n",
      " [-0.03476195  1.24288381]\n",
      " [ 0.15484867 -0.37175028]\n",
      " [ 0.8184858   2.1366991 ]\n",
      " [ 1.76653885 -0.28525202]\n",
      " [-0.41398317  1.21405105]\n",
      " [ 0.62887519 -0.71774329]\n",
      " [ 0.06004336  0.20490475]\n",
      " [ 1.95614946 -1.17906732]\n",
      " [ 1.00809641 -0.8907398 ]\n",
      " [ 1.19770702 -1.35206382]\n",
      " [ 1.95614946  2.10786635]\n",
      " [ 0.34445928  1.09872005]\n",
      " [-0.22437256  0.14723925]\n",
      " [-0.50878847 -0.28525202]\n",
      " [-0.03476195 -0.25641927]\n",
      " [-0.03476195  0.29140301]\n",
      " [-0.79320439 -0.22758652]\n",
      " [-0.03476195 -0.54474678]\n",
      " [ 2.05095477  0.37790126]\n",
      " [-0.60359378 -1.49622758]\n",
      " [-0.12956725  0.20490475]\n",
      " [ 1.86134416 -0.66007779]\n",
      " [ 0.06004336  1.04105455]\n",
      " [-1.55164683  0.32023576]\n",
      " [ 0.43926458  1.81953883]\n",
      " [-0.69839908  0.176072  ]\n",
      " [ 0.91329111 -0.8330743 ]\n",
      " [-1.17242561 -1.15023456]\n",
      " [ 1.10290172 -1.43856208]\n",
      " [ 1.57692824 -0.8907398 ]\n",
      " [ 0.7236805  -0.31408477]\n",
      " [-0.31917786  0.60856327]\n",
      " [-0.31917786  0.060741  ]\n",
      " [-0.982815    0.49323227]\n",
      " [ 0.91329111  0.57973052]\n",
      " [-0.31917786 -0.28525202]\n",
      " [ 1.38731763  2.10786635]\n",
      " [ 0.62887519 -1.26556557]\n",
      " [ 0.34445928 -0.16992102]\n",
      " [ 1.00809641  2.05020085]\n",
      " [-0.12956725 -0.42941578]\n",
      " [ 0.8184858  -1.15023456]\n",
      " [-1.74125744  0.1184065 ]\n",
      " [ 0.06004336 -0.80424155]\n",
      " [ 0.8184858  -1.03490356]\n",
      " [-0.22437256  1.61770957]\n",
      " [-0.31917786 -0.37175028]\n",
      " [-0.31917786  0.78155978]\n",
      " [ 0.7236805   1.35821481]]\n",
      "[[-1.83606274 -1.29439832]\n",
      " [-1.55164683 -0.19875377]\n",
      " [-1.0776203   0.75272703]\n",
      " [-0.79320439  0.49323227]\n",
      " [-1.36203622 -1.35206382]\n",
      " [-0.31917786 -0.74657604]\n",
      " [-1.36203622  0.55089777]\n",
      " [-0.31917786  0.52206502]\n",
      " [-1.26723091  0.49323227]\n",
      " [-1.0776203   0.40673401]\n",
      " [-1.0776203   0.52206502]\n",
      " [-0.12956725  0.060741  ]\n",
      " [-1.26723091 -1.06373631]\n",
      " [ 1.95614946  0.52206502]\n",
      " [-1.0776203   1.93486984]\n",
      " [-0.12956725  0.1184065 ]\n",
      " [-0.88800969 -0.7754088 ]\n",
      " [-0.12956725  0.26257026]\n",
      " [ 0.91329111  1.84837159]\n",
      " [-0.31917786 -0.25641927]\n",
      " [ 1.67173355  0.98338904]\n",
      " [-0.03476195  0.03190824]\n",
      " [-0.88800969  0.37790126]\n",
      " [ 0.34445928 -0.45824853]\n",
      " [ 0.7236805   0.26257026]\n",
      " [ 0.7236805  -1.35206382]\n",
      " [-0.31917786  0.060741  ]\n",
      " [-0.12956725  0.03190824]\n",
      " [-0.60359378 -1.49622758]\n",
      " [-0.31917786 -0.66007779]\n",
      " [ 0.15484867 -0.66007779]\n",
      " [-1.74125744  0.46439952]\n",
      " [ 1.67173355 -0.28525202]\n",
      " [-0.60359378  2.30969561]\n",
      " [ 0.34445928 -0.48708128]\n",
      " [-0.31917786 -0.57357954]\n",
      " [ 1.19770702  2.1943646 ]\n",
      " [ 2.05095477  0.92572354]\n",
      " [-0.50878847 -1.12140181]\n",
      " [ 0.15484867 -0.37175028]\n",
      " [-0.12956725  1.93486984]\n",
      " [ 0.15484867 -0.37175028]\n",
      " [-0.69839908  0.1184065 ]\n",
      " [-1.0776203  -0.34291752]\n",
      " [-1.26723091  0.29140301]\n",
      " [ 1.10290172 -0.97723806]\n",
      " [-1.0776203   0.57973052]\n",
      " [ 0.15484867 -0.31408477]\n",
      " [ 0.24965397 -0.31408477]\n",
      " [-0.22437256 -0.19875377]\n",
      " [-1.17242561  1.38704756]\n",
      " [-1.0776203  -1.52506033]\n",
      " [-1.64645213  0.060741  ]\n",
      " [-0.69839908 -1.58272584]\n",
      " [-1.93086805 -0.05459001]\n",
      " [-0.31917786  0.20490475]\n",
      " [-1.26723091 -1.38089658]\n",
      " [ 0.8184858   1.0698873 ]\n",
      " [-0.31917786  0.08957375]\n",
      " [-0.03476195  0.03190824]\n",
      " [ 0.7236805   0.52206502]\n",
      " [ 1.29251233 -1.40972933]\n",
      " [-0.12956725  0.29140301]\n",
      " [ 0.7236805  -0.8330743 ]\n",
      " [ 1.86134416  0.72389428]\n",
      " [-0.12956725  0.00307549]\n",
      " [-1.17242561 -1.09256906]\n",
      " [ 0.91329111  1.41588031]\n",
      " [ 0.34445928  0.57973052]\n",
      " [ 0.15484867 -0.14108826]\n",
      " [-1.17242561  0.32023576]\n",
      " [ 0.34445928  0.00307549]\n",
      " [-0.69839908  1.38704756]\n",
      " [ 0.8184858  -1.29439832]\n",
      " [ 0.24965397  0.49323227]\n",
      " [-1.36203622 -1.46739483]\n",
      " [-0.982815    0.26257026]\n",
      " [ 2.05095477 -1.03490356]\n",
      " [ 1.57692824  1.58887682]\n",
      " [-0.982815   -0.31408477]\n",
      " [-0.88800969 -0.25641927]\n",
      " [ 0.43926458  1.21405105]\n",
      " [-0.22437256 -1.06373631]\n",
      " [ 0.24965397 -1.15023456]\n",
      " [-0.31917786  1.09872005]\n",
      " [-0.88800969 -0.7754088 ]\n",
      " [-0.79320439 -1.52506033]\n",
      " [-1.17242561 -1.55389308]\n",
      " [-0.60359378  1.35821481]\n",
      " [-0.69839908  0.03190824]\n",
      " [-0.69839908 -0.05459001]\n",
      " [-1.36203622  0.40673401]\n",
      " [-0.88800969  0.14723925]\n",
      " [ 0.91329111  1.76187333]\n",
      " [-1.17242561 -0.7754088 ]\n",
      " [-1.0776203  -1.12140181]\n",
      " [ 0.24965397  0.03190824]\n",
      " [-0.03476195 -0.25641927]\n",
      " [-1.74125744 -0.60241229]\n",
      " [-0.69839908 -0.34291752]]\n"
     ]
    }
   ],
   "source": [
    "print(x_train)\n",
    "print(x_test)"
   ]
  },
  {
   "cell_type": "code",
   "execution_count": 40,
   "metadata": {},
   "outputs": [],
   "source": [
    "#fitting logistic regression to the training set\n",
    "#from sklearn.linear_model import LogisticRegression\n",
    "#classifier=LogisticRegression(random_state=0)\n",
    "#classifier.fit(x_train,y_train)"
   ]
  },
  {
   "cell_type": "code",
   "execution_count": 48,
   "metadata": {},
   "outputs": [],
   "source": [
    "#predicting the test set results\n",
    "y_pred=classifier.predict(x_test)"
   ]
  },
  {
   "cell_type": "code",
   "execution_count": 49,
   "metadata": {},
   "outputs": [
    {
     "data": {
      "text/plain": [
       "KNeighborsClassifier(algorithm='auto', leaf_size=30, metric='minkowski',\n",
       "           metric_params=None, n_jobs=None, n_neighbors=4, p=2,\n",
       "           weights='uniform')"
      ]
     },
     "execution_count": 49,
     "metadata": {},
     "output_type": "execute_result"
    }
   ],
   "source": [
    "#fitting k-NN to the Training set\n",
    "from sklearn.neighbors import KNeighborsClassifier\n",
    "classifier=KNeighborsClassifier(n_neighbors=4)\n",
    "classifier.fit(x_train,y_train)"
   ]
  },
  {
   "cell_type": "code",
   "execution_count": 50,
   "metadata": {},
   "outputs": [],
   "source": [
    "#predicting the test set results\n",
    "y_pred=classifier.predict(x_test)"
   ]
  },
  {
   "cell_type": "code",
   "execution_count": 51,
   "metadata": {},
   "outputs": [],
   "source": [
    "import numpy as np\n",
    "error_rate=[]\n",
    "#will take some time\n",
    "for i in range(1,40):\n",
    "    knn=KNeighborsClassifier(n_neighbors=i)\n",
    "    knn.fit(x_train,y_train)\n",
    "    pred_i=knn.predict(x_test)\n",
    "    error_rate.append(np.mean(pred_i != y_test))"
   ]
  },
  {
   "cell_type": "code",
   "execution_count": 52,
   "metadata": {},
   "outputs": [
    {
     "name": "stdout",
     "output_type": "stream",
     "text": [
      "[0.15, 0.16, 0.1, 0.13, 0.12, 0.1, 0.1, 0.1, 0.1, 0.09, 0.1, 0.09, 0.1, 0.1, 0.09, 0.1, 0.1, 0.1, 0.11, 0.09, 0.09, 0.08, 0.09, 0.09, 0.09, 0.09, 0.09, 0.09, 0.09, 0.09, 0.09, 0.09, 0.09, 0.09, 0.09, 0.09, 0.09, 0.09, 0.09]\n"
     ]
    }
   ],
   "source": [
    "print(error_rate)"
   ]
  },
  {
   "cell_type": "code",
   "execution_count": 54,
   "metadata": {},
   "outputs": [
    {
     "data": {
      "text/plain": [
       "Text(0,0.5,'error rate')"
      ]
     },
     "execution_count": 54,
     "metadata": {},
     "output_type": "execute_result"
    },
    {
     "data": {
      "image/png": "[encoded data removed]",
      "text/plain": [
       "<Figure size 432x288 with 1 Axes>"
      ]
     },
     "metadata": {
      "needs_background": "light"
     },
     "output_type": "display_data"
    }
   ],
   "source": [
    "plt.figure()\n",
    "plt.plot(range(1,40),error_rate,color='blue',linestyle='dashed',marker='o',markerfacecolor='r',markersize=10)\n",
    "plt.title('error rate vs. k value')\n",
    "plt.xlabel('k')\n",
    "plt.ylabel('error rate')"
   ]
  },
  {
   "cell_type": "code",
   "execution_count": null,
   "metadata": {},
   "outputs": [],
   "source": [
    "#fittinng SVM to the training set\n",
    "#from sklearn.svm import SVC\n",
    "#classifier=SVC(kernel='linear',random_state=0)\n",
    "#classifier=SVC(kernel='poly',degree=5,random_state=0)\n",
    "#classifier.fit(x_train,y_train)"
   ]
  }
 ],
 "metadata": {
  "kernelspec": {
   "display_name": "Python 2",
   "language": "python",
   "name": "python2"
  },
  "language_info": {
   "codemirror_mode": {
    "name": "ipython",
    "version": 2
   },
   "file_extension": ".py",
   "mimetype": "text/x-python",
   "name": "python",
   "nbconvert_exporter": "python",
   "pygments_lexer": "ipython2",
   "version": "2.7.16"
  }
 },
 "nbformat": 4,
 "nbformat_minor": 2
}
